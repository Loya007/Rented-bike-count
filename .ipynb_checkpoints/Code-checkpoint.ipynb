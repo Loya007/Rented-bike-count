{
 "cells": [
  {
   "cell_type": "markdown",
   "id": "167ddfcb",
   "metadata": {},
   "source": [
    "# Importing the required libraries"
   ]
  },
  {
   "cell_type": "code",
   "execution_count": 1,
   "id": "afffa802",
   "metadata": {},
   "outputs": [],
   "source": [
    "import pandas as pd\n",
    "import numpy as np\n",
    "import matplotlib.pyplot as plt \n",
    "\n",
    "import seaborn as sns"
   ]
  },
  {
   "cell_type": "markdown",
   "id": "72b7af5d",
   "metadata": {},
   "source": [
    "# Data Preprocessing"
   ]
  },
  {
   "cell_type": "code",
   "execution_count": 2,
   "id": "b8a58bef",
   "metadata": {},
   "outputs": [],
   "source": [
    "df = pd.read_csv('Rented Bike count Dataset.csv', header= 0,\n",
    "                        encoding= 'unicode_escape')"
   ]
  },
  {
   "cell_type": "code",
   "execution_count": 3,
   "id": "a5daf537",
   "metadata": {},
   "outputs": [
    {
     "data": {
      "text/html": [
       "<div>\n",
       "<style scoped>\n",
       "    .dataframe tbody tr th:only-of-type {\n",
       "        vertical-align: middle;\n",
       "    }\n",
       "\n",
       "    .dataframe tbody tr th {\n",
       "        vertical-align: top;\n",
       "    }\n",
       "\n",
       "    .dataframe thead th {\n",
       "        text-align: right;\n",
       "    }\n",
       "</style>\n",
       "<table border=\"1\" class=\"dataframe\">\n",
       "  <thead>\n",
       "    <tr style=\"text-align: right;\">\n",
       "      <th></th>\n",
       "      <th>Date</th>\n",
       "      <th>Rented Bike Count</th>\n",
       "      <th>Hour</th>\n",
       "      <th>Temperature(°C)</th>\n",
       "      <th>Humidity(%)</th>\n",
       "      <th>Wind speed (m/s)</th>\n",
       "      <th>Visibility (10m)</th>\n",
       "      <th>Dew point temperature(°C)</th>\n",
       "      <th>Solar Radiation (MJ/m2)</th>\n",
       "      <th>Rainfall(mm)</th>\n",
       "      <th>Snowfall (cm)</th>\n",
       "      <th>Seasons</th>\n",
       "      <th>Holiday</th>\n",
       "      <th>Functioning Day</th>\n",
       "    </tr>\n",
       "  </thead>\n",
       "  <tbody>\n",
       "    <tr>\n",
       "      <th>0</th>\n",
       "      <td>01/12/2017</td>\n",
       "      <td>254</td>\n",
       "      <td>0</td>\n",
       "      <td>-5.2</td>\n",
       "      <td>37</td>\n",
       "      <td>2.2</td>\n",
       "      <td>2000</td>\n",
       "      <td>-17.6</td>\n",
       "      <td>0.0</td>\n",
       "      <td>0.0</td>\n",
       "      <td>0.0</td>\n",
       "      <td>Winter</td>\n",
       "      <td>No Holiday</td>\n",
       "      <td>Yes</td>\n",
       "    </tr>\n",
       "    <tr>\n",
       "      <th>1</th>\n",
       "      <td>01/12/2017</td>\n",
       "      <td>204</td>\n",
       "      <td>1</td>\n",
       "      <td>-5.5</td>\n",
       "      <td>38</td>\n",
       "      <td>0.8</td>\n",
       "      <td>2000</td>\n",
       "      <td>-17.6</td>\n",
       "      <td>0.0</td>\n",
       "      <td>0.0</td>\n",
       "      <td>0.0</td>\n",
       "      <td>Winter</td>\n",
       "      <td>No Holiday</td>\n",
       "      <td>Yes</td>\n",
       "    </tr>\n",
       "    <tr>\n",
       "      <th>2</th>\n",
       "      <td>01/12/2017</td>\n",
       "      <td>173</td>\n",
       "      <td>2</td>\n",
       "      <td>-6.0</td>\n",
       "      <td>39</td>\n",
       "      <td>1.0</td>\n",
       "      <td>2000</td>\n",
       "      <td>-17.7</td>\n",
       "      <td>0.0</td>\n",
       "      <td>0.0</td>\n",
       "      <td>0.0</td>\n",
       "      <td>Winter</td>\n",
       "      <td>No Holiday</td>\n",
       "      <td>Yes</td>\n",
       "    </tr>\n",
       "    <tr>\n",
       "      <th>3</th>\n",
       "      <td>01/12/2017</td>\n",
       "      <td>107</td>\n",
       "      <td>3</td>\n",
       "      <td>-6.2</td>\n",
       "      <td>40</td>\n",
       "      <td>0.9</td>\n",
       "      <td>2000</td>\n",
       "      <td>-17.6</td>\n",
       "      <td>0.0</td>\n",
       "      <td>0.0</td>\n",
       "      <td>0.0</td>\n",
       "      <td>Winter</td>\n",
       "      <td>No Holiday</td>\n",
       "      <td>Yes</td>\n",
       "    </tr>\n",
       "    <tr>\n",
       "      <th>4</th>\n",
       "      <td>01/12/2017</td>\n",
       "      <td>78</td>\n",
       "      <td>4</td>\n",
       "      <td>-6.0</td>\n",
       "      <td>36</td>\n",
       "      <td>2.3</td>\n",
       "      <td>2000</td>\n",
       "      <td>-18.6</td>\n",
       "      <td>0.0</td>\n",
       "      <td>0.0</td>\n",
       "      <td>0.0</td>\n",
       "      <td>Winter</td>\n",
       "      <td>No Holiday</td>\n",
       "      <td>Yes</td>\n",
       "    </tr>\n",
       "  </tbody>\n",
       "</table>\n",
       "</div>"
      ],
      "text/plain": [
       "         Date  Rented Bike Count  Hour  Temperature(°C)  Humidity(%)  \\\n",
       "0  01/12/2017                254     0             -5.2           37   \n",
       "1  01/12/2017                204     1             -5.5           38   \n",
       "2  01/12/2017                173     2             -6.0           39   \n",
       "3  01/12/2017                107     3             -6.2           40   \n",
       "4  01/12/2017                 78     4             -6.0           36   \n",
       "\n",
       "   Wind speed (m/s)  Visibility (10m)  Dew point temperature(°C)  \\\n",
       "0               2.2              2000                      -17.6   \n",
       "1               0.8              2000                      -17.6   \n",
       "2               1.0              2000                      -17.7   \n",
       "3               0.9              2000                      -17.6   \n",
       "4               2.3              2000                      -18.6   \n",
       "\n",
       "   Solar Radiation (MJ/m2)  Rainfall(mm)  Snowfall (cm) Seasons     Holiday  \\\n",
       "0                      0.0           0.0            0.0  Winter  No Holiday   \n",
       "1                      0.0           0.0            0.0  Winter  No Holiday   \n",
       "2                      0.0           0.0            0.0  Winter  No Holiday   \n",
       "3                      0.0           0.0            0.0  Winter  No Holiday   \n",
       "4                      0.0           0.0            0.0  Winter  No Holiday   \n",
       "\n",
       "  Functioning Day  \n",
       "0             Yes  \n",
       "1             Yes  \n",
       "2             Yes  \n",
       "3             Yes  \n",
       "4             Yes  "
      ]
     },
     "execution_count": 3,
     "metadata": {},
     "output_type": "execute_result"
    }
   ],
   "source": [
    "df.head()"
   ]
  },
  {
   "cell_type": "code",
   "execution_count": 4,
   "id": "337da5c4",
   "metadata": {},
   "outputs": [
    {
     "name": "stdout",
     "output_type": "stream",
     "text": [
      "<class 'pandas.core.frame.DataFrame'>\n",
      "RangeIndex: 8760 entries, 0 to 8759\n",
      "Data columns (total 14 columns):\n",
      " #   Column                     Non-Null Count  Dtype  \n",
      "---  ------                     --------------  -----  \n",
      " 0   Date                       8760 non-null   object \n",
      " 1   Rented Bike Count          8760 non-null   int64  \n",
      " 2   Hour                       8760 non-null   int64  \n",
      " 3   Temperature(°C)            8760 non-null   float64\n",
      " 4   Humidity(%)                8760 non-null   int64  \n",
      " 5   Wind speed (m/s)           8760 non-null   float64\n",
      " 6   Visibility (10m)           8760 non-null   int64  \n",
      " 7   Dew point temperature(°C)  8760 non-null   float64\n",
      " 8   Solar Radiation (MJ/m2)    8760 non-null   float64\n",
      " 9   Rainfall(mm)               8760 non-null   float64\n",
      " 10  Snowfall (cm)              8760 non-null   float64\n",
      " 11  Seasons                    8760 non-null   object \n",
      " 12  Holiday                    8760 non-null   object \n",
      " 13  Functioning Day            8760 non-null   object \n",
      "dtypes: float64(6), int64(4), object(4)\n",
      "memory usage: 958.2+ KB\n"
     ]
    }
   ],
   "source": [
    "df.info()"
   ]
  },
  {
   "cell_type": "code",
   "execution_count": 5,
   "id": "d490e103",
   "metadata": {},
   "outputs": [
    {
     "data": {
      "text/html": [
       "<div>\n",
       "<style scoped>\n",
       "    .dataframe tbody tr th:only-of-type {\n",
       "        vertical-align: middle;\n",
       "    }\n",
       "\n",
       "    .dataframe tbody tr th {\n",
       "        vertical-align: top;\n",
       "    }\n",
       "\n",
       "    .dataframe thead th {\n",
       "        text-align: right;\n",
       "    }\n",
       "</style>\n",
       "<table border=\"1\" class=\"dataframe\">\n",
       "  <thead>\n",
       "    <tr style=\"text-align: right;\">\n",
       "      <th></th>\n",
       "      <th>Rented Bike Count</th>\n",
       "      <th>Hour</th>\n",
       "      <th>Temperature(°C)</th>\n",
       "      <th>Humidity(%)</th>\n",
       "      <th>Wind speed (m/s)</th>\n",
       "      <th>Visibility (10m)</th>\n",
       "      <th>Dew point temperature(°C)</th>\n",
       "      <th>Solar Radiation (MJ/m2)</th>\n",
       "      <th>Rainfall(mm)</th>\n",
       "      <th>Snowfall (cm)</th>\n",
       "    </tr>\n",
       "  </thead>\n",
       "  <tbody>\n",
       "    <tr>\n",
       "      <th>Rented Bike Count</th>\n",
       "      <td>1.000000</td>\n",
       "      <td>0.410257</td>\n",
       "      <td>0.538558</td>\n",
       "      <td>-0.199780</td>\n",
       "      <td>0.121108</td>\n",
       "      <td>0.199280</td>\n",
       "      <td>0.379788</td>\n",
       "      <td>0.261837</td>\n",
       "      <td>-0.123074</td>\n",
       "      <td>-0.141804</td>\n",
       "    </tr>\n",
       "    <tr>\n",
       "      <th>Hour</th>\n",
       "      <td>0.410257</td>\n",
       "      <td>1.000000</td>\n",
       "      <td>0.124114</td>\n",
       "      <td>-0.241644</td>\n",
       "      <td>0.285197</td>\n",
       "      <td>0.098753</td>\n",
       "      <td>0.003054</td>\n",
       "      <td>0.145131</td>\n",
       "      <td>0.008715</td>\n",
       "      <td>-0.021516</td>\n",
       "    </tr>\n",
       "    <tr>\n",
       "      <th>Temperature(°C)</th>\n",
       "      <td>0.538558</td>\n",
       "      <td>0.124114</td>\n",
       "      <td>1.000000</td>\n",
       "      <td>0.159371</td>\n",
       "      <td>-0.036252</td>\n",
       "      <td>0.034794</td>\n",
       "      <td>0.912798</td>\n",
       "      <td>0.353505</td>\n",
       "      <td>0.050282</td>\n",
       "      <td>-0.218405</td>\n",
       "    </tr>\n",
       "    <tr>\n",
       "      <th>Humidity(%)</th>\n",
       "      <td>-0.199780</td>\n",
       "      <td>-0.241644</td>\n",
       "      <td>0.159371</td>\n",
       "      <td>1.000000</td>\n",
       "      <td>-0.336683</td>\n",
       "      <td>-0.543090</td>\n",
       "      <td>0.536894</td>\n",
       "      <td>-0.461919</td>\n",
       "      <td>0.236397</td>\n",
       "      <td>0.108183</td>\n",
       "    </tr>\n",
       "    <tr>\n",
       "      <th>Wind speed (m/s)</th>\n",
       "      <td>0.121108</td>\n",
       "      <td>0.285197</td>\n",
       "      <td>-0.036252</td>\n",
       "      <td>-0.336683</td>\n",
       "      <td>1.000000</td>\n",
       "      <td>0.171507</td>\n",
       "      <td>-0.176486</td>\n",
       "      <td>0.332274</td>\n",
       "      <td>-0.019674</td>\n",
       "      <td>-0.003554</td>\n",
       "    </tr>\n",
       "    <tr>\n",
       "      <th>Visibility (10m)</th>\n",
       "      <td>0.199280</td>\n",
       "      <td>0.098753</td>\n",
       "      <td>0.034794</td>\n",
       "      <td>-0.543090</td>\n",
       "      <td>0.171507</td>\n",
       "      <td>1.000000</td>\n",
       "      <td>-0.176630</td>\n",
       "      <td>0.149738</td>\n",
       "      <td>-0.167629</td>\n",
       "      <td>-0.121695</td>\n",
       "    </tr>\n",
       "    <tr>\n",
       "      <th>Dew point temperature(°C)</th>\n",
       "      <td>0.379788</td>\n",
       "      <td>0.003054</td>\n",
       "      <td>0.912798</td>\n",
       "      <td>0.536894</td>\n",
       "      <td>-0.176486</td>\n",
       "      <td>-0.176630</td>\n",
       "      <td>1.000000</td>\n",
       "      <td>0.094381</td>\n",
       "      <td>0.125597</td>\n",
       "      <td>-0.150887</td>\n",
       "    </tr>\n",
       "    <tr>\n",
       "      <th>Solar Radiation (MJ/m2)</th>\n",
       "      <td>0.261837</td>\n",
       "      <td>0.145131</td>\n",
       "      <td>0.353505</td>\n",
       "      <td>-0.461919</td>\n",
       "      <td>0.332274</td>\n",
       "      <td>0.149738</td>\n",
       "      <td>0.094381</td>\n",
       "      <td>1.000000</td>\n",
       "      <td>-0.074290</td>\n",
       "      <td>-0.072301</td>\n",
       "    </tr>\n",
       "    <tr>\n",
       "      <th>Rainfall(mm)</th>\n",
       "      <td>-0.123074</td>\n",
       "      <td>0.008715</td>\n",
       "      <td>0.050282</td>\n",
       "      <td>0.236397</td>\n",
       "      <td>-0.019674</td>\n",
       "      <td>-0.167629</td>\n",
       "      <td>0.125597</td>\n",
       "      <td>-0.074290</td>\n",
       "      <td>1.000000</td>\n",
       "      <td>0.008500</td>\n",
       "    </tr>\n",
       "    <tr>\n",
       "      <th>Snowfall (cm)</th>\n",
       "      <td>-0.141804</td>\n",
       "      <td>-0.021516</td>\n",
       "      <td>-0.218405</td>\n",
       "      <td>0.108183</td>\n",
       "      <td>-0.003554</td>\n",
       "      <td>-0.121695</td>\n",
       "      <td>-0.150887</td>\n",
       "      <td>-0.072301</td>\n",
       "      <td>0.008500</td>\n",
       "      <td>1.000000</td>\n",
       "    </tr>\n",
       "  </tbody>\n",
       "</table>\n",
       "</div>"
      ],
      "text/plain": [
       "                           Rented Bike Count      Hour  Temperature(°C)  \\\n",
       "Rented Bike Count                   1.000000  0.410257         0.538558   \n",
       "Hour                                0.410257  1.000000         0.124114   \n",
       "Temperature(°C)                     0.538558  0.124114         1.000000   \n",
       "Humidity(%)                        -0.199780 -0.241644         0.159371   \n",
       "Wind speed (m/s)                    0.121108  0.285197        -0.036252   \n",
       "Visibility (10m)                    0.199280  0.098753         0.034794   \n",
       "Dew point temperature(°C)           0.379788  0.003054         0.912798   \n",
       "Solar Radiation (MJ/m2)             0.261837  0.145131         0.353505   \n",
       "Rainfall(mm)                       -0.123074  0.008715         0.050282   \n",
       "Snowfall (cm)                      -0.141804 -0.021516        -0.218405   \n",
       "\n",
       "                           Humidity(%)  Wind speed (m/s)  Visibility (10m)  \\\n",
       "Rented Bike Count            -0.199780          0.121108          0.199280   \n",
       "Hour                         -0.241644          0.285197          0.098753   \n",
       "Temperature(°C)               0.159371         -0.036252          0.034794   \n",
       "Humidity(%)                   1.000000         -0.336683         -0.543090   \n",
       "Wind speed (m/s)             -0.336683          1.000000          0.171507   \n",
       "Visibility (10m)             -0.543090          0.171507          1.000000   \n",
       "Dew point temperature(°C)     0.536894         -0.176486         -0.176630   \n",
       "Solar Radiation (MJ/m2)      -0.461919          0.332274          0.149738   \n",
       "Rainfall(mm)                  0.236397         -0.019674         -0.167629   \n",
       "Snowfall (cm)                 0.108183         -0.003554         -0.121695   \n",
       "\n",
       "                           Dew point temperature(°C)  Solar Radiation (MJ/m2)  \\\n",
       "Rented Bike Count                           0.379788                 0.261837   \n",
       "Hour                                        0.003054                 0.145131   \n",
       "Temperature(°C)                             0.912798                 0.353505   \n",
       "Humidity(%)                                 0.536894                -0.461919   \n",
       "Wind speed (m/s)                           -0.176486                 0.332274   \n",
       "Visibility (10m)                           -0.176630                 0.149738   \n",
       "Dew point temperature(°C)                   1.000000                 0.094381   \n",
       "Solar Radiation (MJ/m2)                     0.094381                 1.000000   \n",
       "Rainfall(mm)                                0.125597                -0.074290   \n",
       "Snowfall (cm)                              -0.150887                -0.072301   \n",
       "\n",
       "                           Rainfall(mm)  Snowfall (cm)  \n",
       "Rented Bike Count             -0.123074      -0.141804  \n",
       "Hour                           0.008715      -0.021516  \n",
       "Temperature(°C)                0.050282      -0.218405  \n",
       "Humidity(%)                    0.236397       0.108183  \n",
       "Wind speed (m/s)              -0.019674      -0.003554  \n",
       "Visibility (10m)              -0.167629      -0.121695  \n",
       "Dew point temperature(°C)      0.125597      -0.150887  \n",
       "Solar Radiation (MJ/m2)       -0.074290      -0.072301  \n",
       "Rainfall(mm)                   1.000000       0.008500  \n",
       "Snowfall (cm)                  0.008500       1.000000  "
      ]
     },
     "execution_count": 5,
     "metadata": {},
     "output_type": "execute_result"
    }
   ],
   "source": [
    "corr= df.corr()\n",
    "corr"
   ]
  },
  {
   "cell_type": "markdown",
   "id": "3f2c894d",
   "metadata": {},
   "source": [
    "### Heatmap to visualise and understand correlation even better"
   ]
  },
  {
   "cell_type": "code",
   "execution_count": 6,
   "id": "317ec078",
   "metadata": {},
   "outputs": [
    {
     "data": {
      "text/plain": [
       "<AxesSubplot:>"
      ]
     },
     "execution_count": 6,
     "metadata": {},
     "output_type": "execute_result"
    },
    {
     "data": {
      "image/png": "[encoded data removed]",
      "text/plain": [
       "<Figure size 1080x576 with 2 Axes>"
      ]
     },
     "metadata": {
      "needs_background": "light"
     },
     "output_type": "display_data"
    }
   ],
   "source": [
    "plt.subplots(figsize=(15,8))\n",
    "sns.heatmap(corr)"
   ]
  },
  {
   "cell_type": "markdown",
   "id": "d8d245a7",
   "metadata": {},
   "source": [
    "### No. of bikes rented per hour"
   ]
  },
  {
   "cell_type": "code",
   "execution_count": 7,
   "id": "f1f0e585",
   "metadata": {},
   "outputs": [
    {
     "data": {
      "text/plain": [
       "<AxesSubplot:xlabel='Hour', ylabel='Rented Bike Count'>"
      ]
     },
     "execution_count": 7,
     "metadata": {},
     "output_type": "execute_result"
    },
    {
     "data": {
      "image/png": "[encoded data removed]",
      "text/plain": [
       "<Figure size 648x432 with 1 Axes>"
      ]
     },
     "metadata": {
      "needs_background": "light"
     },
     "output_type": "display_data"
    }
   ],
   "source": [
    "plt.figure(figsize=(9,6))\n",
    "sns.boxplot(data=df,x='Hour',y='Rented Bike Count')"
   ]
  },
  {
   "cell_type": "markdown",
   "id": "ab8df0b7",
   "metadata": {},
   "source": [
    "### Relationship between bike count and tempertures"
   ]
  },
  {
   "cell_type": "code",
   "execution_count": 8,
   "id": "d0035b8f",
   "metadata": {},
   "outputs": [
    {
     "data": {
      "image/png": "[encoded data removed]",
      "text/plain": [
       "<Figure size 432x288 with 1 Axes>"
      ]
     },
     "metadata": {
      "needs_background": "light"
     },
     "output_type": "display_data"
    }
   ],
   "source": [
    "axl= df.plot.hist( x= 'Rented Bike Count' , y= 'Temperature(°C)')"
   ]
  },
  {
   "cell_type": "markdown",
   "id": "cacf90d2",
   "metadata": {},
   "source": [
    "### No of bikes rented  per day on average during different seasons"
   ]
  },
  {
   "cell_type": "code",
   "execution_count": 9,
   "id": "4ae7efc3",
   "metadata": {},
   "outputs": [
    {
     "data": {
      "text/plain": [
       "[Text(0.5, 1.0, 'Count by Hour, Season')]"
      ]
     },
     "execution_count": 9,
     "metadata": {},
     "output_type": "execute_result"
    },
    {
     "data": {
      "image/png": "[encoded data removed]",
      "text/plain": [
       "<Figure size 648x432 with 1 Axes>"
      ]
     },
     "metadata": {
      "needs_background": "light"
     },
     "output_type": "display_data"
    }
   ],
   "source": [
    "plt.figure(figsize=(9,6))\n",
    "houragg = pd.DataFrame(df.groupby(['Hour','Seasons'])['Rented Bike Count'].mean()).reset_index()\n",
    "sns.pointplot(data=houragg,x=houragg['Hour'],y=houragg['Rented Bike Count'],hue=houragg['Seasons']).set(title='Count by Hour, Season')"
   ]
  },
  {
   "cell_type": "code",
   "execution_count": 10,
   "id": "df39e197",
   "metadata": {},
   "outputs": [
    {
     "data": {
      "text/html": [
       "<div>\n",
       "<style scoped>\n",
       "    .dataframe tbody tr th:only-of-type {\n",
       "        vertical-align: middle;\n",
       "    }\n",
       "\n",
       "    .dataframe tbody tr th {\n",
       "        vertical-align: top;\n",
       "    }\n",
       "\n",
       "    .dataframe thead th {\n",
       "        text-align: right;\n",
       "    }\n",
       "</style>\n",
       "<table border=\"1\" class=\"dataframe\">\n",
       "  <thead>\n",
       "    <tr style=\"text-align: right;\">\n",
       "      <th></th>\n",
       "      <th>Date</th>\n",
       "      <th>Rented Bike Count</th>\n",
       "      <th>Hour</th>\n",
       "      <th>Temperature(°C)</th>\n",
       "      <th>Humidity(%)</th>\n",
       "      <th>Wind speed (m/s)</th>\n",
       "      <th>Visibility (10m)</th>\n",
       "      <th>Dew point temperature(°C)</th>\n",
       "      <th>Solar Radiation (MJ/m2)</th>\n",
       "      <th>Rainfall(mm)</th>\n",
       "      <th>Snowfall (cm)</th>\n",
       "      <th>Seasons</th>\n",
       "      <th>Holiday</th>\n",
       "      <th>Functioning Day</th>\n",
       "      <th>Autumn</th>\n",
       "      <th>Spring</th>\n",
       "      <th>Summer</th>\n",
       "      <th>Winter</th>\n",
       "    </tr>\n",
       "  </thead>\n",
       "  <tbody>\n",
       "    <tr>\n",
       "      <th>0</th>\n",
       "      <td>01/12/2017</td>\n",
       "      <td>254</td>\n",
       "      <td>0</td>\n",
       "      <td>-5.2</td>\n",
       "      <td>37</td>\n",
       "      <td>2.2</td>\n",
       "      <td>2000</td>\n",
       "      <td>-17.6</td>\n",
       "      <td>0.0</td>\n",
       "      <td>0.0</td>\n",
       "      <td>0.0</td>\n",
       "      <td>Winter</td>\n",
       "      <td>0</td>\n",
       "      <td>0</td>\n",
       "      <td>0</td>\n",
       "      <td>0</td>\n",
       "      <td>0</td>\n",
       "      <td>1</td>\n",
       "    </tr>\n",
       "    <tr>\n",
       "      <th>1</th>\n",
       "      <td>01/12/2017</td>\n",
       "      <td>204</td>\n",
       "      <td>1</td>\n",
       "      <td>-5.5</td>\n",
       "      <td>38</td>\n",
       "      <td>0.8</td>\n",
       "      <td>2000</td>\n",
       "      <td>-17.6</td>\n",
       "      <td>0.0</td>\n",
       "      <td>0.0</td>\n",
       "      <td>0.0</td>\n",
       "      <td>Winter</td>\n",
       "      <td>0</td>\n",
       "      <td>0</td>\n",
       "      <td>0</td>\n",
       "      <td>0</td>\n",
       "      <td>0</td>\n",
       "      <td>1</td>\n",
       "    </tr>\n",
       "    <tr>\n",
       "      <th>2</th>\n",
       "      <td>01/12/2017</td>\n",
       "      <td>173</td>\n",
       "      <td>2</td>\n",
       "      <td>-6.0</td>\n",
       "      <td>39</td>\n",
       "      <td>1.0</td>\n",
       "      <td>2000</td>\n",
       "      <td>-17.7</td>\n",
       "      <td>0.0</td>\n",
       "      <td>0.0</td>\n",
       "      <td>0.0</td>\n",
       "      <td>Winter</td>\n",
       "      <td>0</td>\n",
       "      <td>0</td>\n",
       "      <td>0</td>\n",
       "      <td>0</td>\n",
       "      <td>0</td>\n",
       "      <td>1</td>\n",
       "    </tr>\n",
       "    <tr>\n",
       "      <th>3</th>\n",
       "      <td>01/12/2017</td>\n",
       "      <td>107</td>\n",
       "      <td>3</td>\n",
       "      <td>-6.2</td>\n",
       "      <td>40</td>\n",
       "      <td>0.9</td>\n",
       "      <td>2000</td>\n",
       "      <td>-17.6</td>\n",
       "      <td>0.0</td>\n",
       "      <td>0.0</td>\n",
       "      <td>0.0</td>\n",
       "      <td>Winter</td>\n",
       "      <td>0</td>\n",
       "      <td>0</td>\n",
       "      <td>0</td>\n",
       "      <td>0</td>\n",
       "      <td>0</td>\n",
       "      <td>1</td>\n",
       "    </tr>\n",
       "    <tr>\n",
       "      <th>4</th>\n",
       "      <td>01/12/2017</td>\n",
       "      <td>78</td>\n",
       "      <td>4</td>\n",
       "      <td>-6.0</td>\n",
       "      <td>36</td>\n",
       "      <td>2.3</td>\n",
       "      <td>2000</td>\n",
       "      <td>-18.6</td>\n",
       "      <td>0.0</td>\n",
       "      <td>0.0</td>\n",
       "      <td>0.0</td>\n",
       "      <td>Winter</td>\n",
       "      <td>0</td>\n",
       "      <td>0</td>\n",
       "      <td>0</td>\n",
       "      <td>0</td>\n",
       "      <td>0</td>\n",
       "      <td>1</td>\n",
       "    </tr>\n",
       "  </tbody>\n",
       "</table>\n",
       "</div>"
      ],
      "text/plain": [
       "         Date  Rented Bike Count  Hour  Temperature(°C)  Humidity(%)  \\\n",
       "0  01/12/2017                254     0             -5.2           37   \n",
       "1  01/12/2017                204     1             -5.5           38   \n",
       "2  01/12/2017                173     2             -6.0           39   \n",
       "3  01/12/2017                107     3             -6.2           40   \n",
       "4  01/12/2017                 78     4             -6.0           36   \n",
       "\n",
       "   Wind speed (m/s)  Visibility (10m)  Dew point temperature(°C)  \\\n",
       "0               2.2              2000                      -17.6   \n",
       "1               0.8              2000                      -17.6   \n",
       "2               1.0              2000                      -17.7   \n",
       "3               0.9              2000                      -17.6   \n",
       "4               2.3              2000                      -18.6   \n",
       "\n",
       "   Solar Radiation (MJ/m2)  Rainfall(mm)  Snowfall (cm) Seasons  Holiday  \\\n",
       "0                      0.0           0.0            0.0  Winter        0   \n",
       "1                      0.0           0.0            0.0  Winter        0   \n",
       "2                      0.0           0.0            0.0  Winter        0   \n",
       "3                      0.0           0.0            0.0  Winter        0   \n",
       "4                      0.0           0.0            0.0  Winter        0   \n",
       "\n",
       "   Functioning Day  Autumn  Spring  Summer  Winter  \n",
       "0                0       0       0       0       1  \n",
       "1                0       0       0       0       1  \n",
       "2                0       0       0       0       1  \n",
       "3                0       0       0       0       1  \n",
       "4                0       0       0       0       1  "
      ]
     },
     "execution_count": 10,
     "metadata": {},
     "output_type": "execute_result"
    }
   ],
   "source": [
    "df['Holiday'].replace(['No Holiday', 'Holiday'],[0, 1], inplace=True)\n",
    "df['Functioning Day'].replace(['Yes', 'No'],[0, 1], inplace=True)\n",
    "df= pd.concat([df, pd.get_dummies(df['Seasons'])], axis= 1)\n",
    "df.head()"
   ]
  },
  {
   "cell_type": "markdown",
   "id": "1af39b06",
   "metadata": {},
   "source": [
    "# Train Test Split "
   ]
  },
  {
   "cell_type": "code",
   "execution_count": 11,
   "id": "2219551b",
   "metadata": {},
   "outputs": [],
   "source": [
    "X= df.drop(columns= ['Date','Rented Bike Count','Seasons'])\n",
    "y= df['Rented Bike Count']"
   ]
  },
  {
   "cell_type": "code",
   "execution_count": 12,
   "id": "f6a8548b",
   "metadata": {},
   "outputs": [],
   "source": [
    "from sklearn.model_selection import train_test_split\n",
    "x1_train, x1_test, val_train, val_test = train_test_split(X,y,test_size=0.2, random_state=42)"
   ]
  },
  {
   "cell_type": "code",
   "execution_count": 13,
   "id": "c8c52af5",
   "metadata": {},
   "outputs": [],
   "source": [
    "X_train, X_test, y_train, y_test = train_test_split(x1_train,val_train,test_size=0.2, random_state=42)"
   ]
  },
  {
   "cell_type": "code",
   "execution_count": 14,
   "id": "95cbe856",
   "metadata": {},
   "outputs": [
    {
     "data": {
      "text/html": [
       "<div>\n",
       "<style scoped>\n",
       "    .dataframe tbody tr th:only-of-type {\n",
       "        vertical-align: middle;\n",
       "    }\n",
       "\n",
       "    .dataframe tbody tr th {\n",
       "        vertical-align: top;\n",
       "    }\n",
       "\n",
       "    .dataframe thead th {\n",
       "        text-align: right;\n",
       "    }\n",
       "</style>\n",
       "<table border=\"1\" class=\"dataframe\">\n",
       "  <thead>\n",
       "    <tr style=\"text-align: right;\">\n",
       "      <th></th>\n",
       "      <th>Hour</th>\n",
       "      <th>Temperature(°C)</th>\n",
       "      <th>Humidity(%)</th>\n",
       "      <th>Wind speed (m/s)</th>\n",
       "      <th>Visibility (10m)</th>\n",
       "      <th>Dew point temperature(°C)</th>\n",
       "      <th>Solar Radiation (MJ/m2)</th>\n",
       "      <th>Rainfall(mm)</th>\n",
       "      <th>Snowfall (cm)</th>\n",
       "      <th>Holiday</th>\n",
       "      <th>Functioning Day</th>\n",
       "      <th>Autumn</th>\n",
       "      <th>Spring</th>\n",
       "      <th>Summer</th>\n",
       "      <th>Winter</th>\n",
       "    </tr>\n",
       "  </thead>\n",
       "  <tbody>\n",
       "    <tr>\n",
       "      <th>142</th>\n",
       "      <td>22</td>\n",
       "      <td>1.3</td>\n",
       "      <td>92</td>\n",
       "      <td>0.6</td>\n",
       "      <td>233</td>\n",
       "      <td>0.1</td>\n",
       "      <td>0.00</td>\n",
       "      <td>0.0</td>\n",
       "      <td>1.0</td>\n",
       "      <td>0</td>\n",
       "      <td>0</td>\n",
       "      <td>0</td>\n",
       "      <td>0</td>\n",
       "      <td>0</td>\n",
       "      <td>1</td>\n",
       "    </tr>\n",
       "    <tr>\n",
       "      <th>8211</th>\n",
       "      <td>3</td>\n",
       "      <td>11.8</td>\n",
       "      <td>86</td>\n",
       "      <td>1.6</td>\n",
       "      <td>1819</td>\n",
       "      <td>9.5</td>\n",
       "      <td>0.00</td>\n",
       "      <td>0.5</td>\n",
       "      <td>0.0</td>\n",
       "      <td>0</td>\n",
       "      <td>0</td>\n",
       "      <td>1</td>\n",
       "      <td>0</td>\n",
       "      <td>0</td>\n",
       "      <td>0</td>\n",
       "    </tr>\n",
       "    <tr>\n",
       "      <th>2271</th>\n",
       "      <td>15</td>\n",
       "      <td>10.3</td>\n",
       "      <td>43</td>\n",
       "      <td>2.5</td>\n",
       "      <td>2000</td>\n",
       "      <td>-1.7</td>\n",
       "      <td>2.45</td>\n",
       "      <td>0.0</td>\n",
       "      <td>0.0</td>\n",
       "      <td>0</td>\n",
       "      <td>0</td>\n",
       "      <td>0</td>\n",
       "      <td>1</td>\n",
       "      <td>0</td>\n",
       "      <td>0</td>\n",
       "    </tr>\n",
       "    <tr>\n",
       "      <th>4419</th>\n",
       "      <td>3</td>\n",
       "      <td>18.0</td>\n",
       "      <td>64</td>\n",
       "      <td>1.3</td>\n",
       "      <td>1560</td>\n",
       "      <td>11.0</td>\n",
       "      <td>0.00</td>\n",
       "      <td>0.0</td>\n",
       "      <td>0.0</td>\n",
       "      <td>0</td>\n",
       "      <td>0</td>\n",
       "      <td>0</td>\n",
       "      <td>0</td>\n",
       "      <td>1</td>\n",
       "      <td>0</td>\n",
       "    </tr>\n",
       "    <tr>\n",
       "      <th>4075</th>\n",
       "      <td>19</td>\n",
       "      <td>22.6</td>\n",
       "      <td>34</td>\n",
       "      <td>1.5</td>\n",
       "      <td>2000</td>\n",
       "      <td>5.9</td>\n",
       "      <td>0.51</td>\n",
       "      <td>0.0</td>\n",
       "      <td>0.0</td>\n",
       "      <td>0</td>\n",
       "      <td>0</td>\n",
       "      <td>0</td>\n",
       "      <td>1</td>\n",
       "      <td>0</td>\n",
       "      <td>0</td>\n",
       "    </tr>\n",
       "    <tr>\n",
       "      <th>...</th>\n",
       "      <td>...</td>\n",
       "      <td>...</td>\n",
       "      <td>...</td>\n",
       "      <td>...</td>\n",
       "      <td>...</td>\n",
       "      <td>...</td>\n",
       "      <td>...</td>\n",
       "      <td>...</td>\n",
       "      <td>...</td>\n",
       "      <td>...</td>\n",
       "      <td>...</td>\n",
       "      <td>...</td>\n",
       "      <td>...</td>\n",
       "      <td>...</td>\n",
       "      <td>...</td>\n",
       "    </tr>\n",
       "    <tr>\n",
       "      <th>5025</th>\n",
       "      <td>9</td>\n",
       "      <td>24.8</td>\n",
       "      <td>75</td>\n",
       "      <td>1.1</td>\n",
       "      <td>1418</td>\n",
       "      <td>20.0</td>\n",
       "      <td>0.63</td>\n",
       "      <td>0.0</td>\n",
       "      <td>0.0</td>\n",
       "      <td>0</td>\n",
       "      <td>0</td>\n",
       "      <td>0</td>\n",
       "      <td>0</td>\n",
       "      <td>1</td>\n",
       "      <td>0</td>\n",
       "    </tr>\n",
       "    <tr>\n",
       "      <th>6335</th>\n",
       "      <td>23</td>\n",
       "      <td>25.6</td>\n",
       "      <td>75</td>\n",
       "      <td>0.1</td>\n",
       "      <td>1892</td>\n",
       "      <td>20.8</td>\n",
       "      <td>0.00</td>\n",
       "      <td>0.0</td>\n",
       "      <td>0.0</td>\n",
       "      <td>0</td>\n",
       "      <td>0</td>\n",
       "      <td>0</td>\n",
       "      <td>0</td>\n",
       "      <td>1</td>\n",
       "      <td>0</td>\n",
       "    </tr>\n",
       "    <tr>\n",
       "      <th>1985</th>\n",
       "      <td>17</td>\n",
       "      <td>3.1</td>\n",
       "      <td>14</td>\n",
       "      <td>3.7</td>\n",
       "      <td>2000</td>\n",
       "      <td>-21.9</td>\n",
       "      <td>1.00</td>\n",
       "      <td>0.0</td>\n",
       "      <td>0.0</td>\n",
       "      <td>0</td>\n",
       "      <td>0</td>\n",
       "      <td>0</td>\n",
       "      <td>0</td>\n",
       "      <td>0</td>\n",
       "      <td>1</td>\n",
       "    </tr>\n",
       "    <tr>\n",
       "      <th>6467</th>\n",
       "      <td>11</td>\n",
       "      <td>22.0</td>\n",
       "      <td>96</td>\n",
       "      <td>1.6</td>\n",
       "      <td>602</td>\n",
       "      <td>21.3</td>\n",
       "      <td>0.36</td>\n",
       "      <td>0.5</td>\n",
       "      <td>0.0</td>\n",
       "      <td>0</td>\n",
       "      <td>0</td>\n",
       "      <td>0</td>\n",
       "      <td>0</td>\n",
       "      <td>1</td>\n",
       "      <td>0</td>\n",
       "    </tr>\n",
       "    <tr>\n",
       "      <th>3095</th>\n",
       "      <td>23</td>\n",
       "      <td>2.9</td>\n",
       "      <td>85</td>\n",
       "      <td>0.9</td>\n",
       "      <td>829</td>\n",
       "      <td>0.6</td>\n",
       "      <td>0.00</td>\n",
       "      <td>0.0</td>\n",
       "      <td>0.0</td>\n",
       "      <td>0</td>\n",
       "      <td>0</td>\n",
       "      <td>0</td>\n",
       "      <td>1</td>\n",
       "      <td>0</td>\n",
       "      <td>0</td>\n",
       "    </tr>\n",
       "  </tbody>\n",
       "</table>\n",
       "<p>5606 rows × 15 columns</p>\n",
       "</div>"
      ],
      "text/plain": [
       "      Hour  Temperature(°C)  Humidity(%)  Wind speed (m/s)  Visibility (10m)  \\\n",
       "142     22              1.3           92               0.6               233   \n",
       "8211     3             11.8           86               1.6              1819   \n",
       "2271    15             10.3           43               2.5              2000   \n",
       "4419     3             18.0           64               1.3              1560   \n",
       "4075    19             22.6           34               1.5              2000   \n",
       "...    ...              ...          ...               ...               ...   \n",
       "5025     9             24.8           75               1.1              1418   \n",
       "6335    23             25.6           75               0.1              1892   \n",
       "1985    17              3.1           14               3.7              2000   \n",
       "6467    11             22.0           96               1.6               602   \n",
       "3095    23              2.9           85               0.9               829   \n",
       "\n",
       "      Dew point temperature(°C)  Solar Radiation (MJ/m2)  Rainfall(mm)  \\\n",
       "142                         0.1                     0.00           0.0   \n",
       "8211                        9.5                     0.00           0.5   \n",
       "2271                       -1.7                     2.45           0.0   \n",
       "4419                       11.0                     0.00           0.0   \n",
       "4075                        5.9                     0.51           0.0   \n",
       "...                         ...                      ...           ...   \n",
       "5025                       20.0                     0.63           0.0   \n",
       "6335                       20.8                     0.00           0.0   \n",
       "1985                      -21.9                     1.00           0.0   \n",
       "6467                       21.3                     0.36           0.5   \n",
       "3095                        0.6                     0.00           0.0   \n",
       "\n",
       "      Snowfall (cm)  Holiday  Functioning Day  Autumn  Spring  Summer  Winter  \n",
       "142             1.0        0                0       0       0       0       1  \n",
       "8211            0.0        0                0       1       0       0       0  \n",
       "2271            0.0        0                0       0       1       0       0  \n",
       "4419            0.0        0                0       0       0       1       0  \n",
       "4075            0.0        0                0       0       1       0       0  \n",
       "...             ...      ...              ...     ...     ...     ...     ...  \n",
       "5025            0.0        0                0       0       0       1       0  \n",
       "6335            0.0        0                0       0       0       1       0  \n",
       "1985            0.0        0                0       0       0       0       1  \n",
       "6467            0.0        0                0       0       0       1       0  \n",
       "3095            0.0        0                0       0       1       0       0  \n",
       "\n",
       "[5606 rows x 15 columns]"
      ]
     },
     "execution_count": 14,
     "metadata": {},
     "output_type": "execute_result"
    }
   ],
   "source": [
    "X_train"
   ]
  },
  {
   "cell_type": "markdown",
   "id": "3a79e177",
   "metadata": {},
   "source": [
    "# 1. Baseline Model (Dummy Regressor)"
   ]
  },
  {
   "cell_type": "code",
   "execution_count": 75,
   "id": "a81defb6",
   "metadata": {},
   "outputs": [
    {
     "data": {
      "text/plain": [
       "-0.0003582424797550221"
      ]
     },
     "execution_count": 75,
     "metadata": {},
     "output_type": "execute_result"
    }
   ],
   "source": [
    "from sklearn.dummy import DummyRegressor\n",
    "from sklearn.metrics import r2_score\n",
    "dummy_regr = DummyRegressor(strategy=\"mean\")\n",
    "dummy_regr.fit(X_train, y_train)\n",
    "\n",
    "dummy_regr.score(X_train,y_train)\n",
    "\n",
    "ypred=dummy_regr.predict(X_test)\n",
    "dummy=r2_score(y_test, ypred)\n",
    "dummy"
   ]
  },
  {
   "cell_type": "markdown",
   "id": "e6e3f327",
   "metadata": {},
   "source": [
    "# 2 Linear regression model "
   ]
  },
  {
   "cell_type": "code",
   "execution_count": 16,
   "id": "43d9245a",
   "metadata": {},
   "outputs": [],
   "source": [
    "from sklearn.linear_model import LinearRegression\n",
    "regr = LinearRegression()"
   ]
  },
  {
   "cell_type": "code",
   "execution_count": 17,
   "id": "857e669c",
   "metadata": {},
   "outputs": [
    {
     "data": {
      "text/plain": [
       "LinearRegression()"
      ]
     },
     "execution_count": 17,
     "metadata": {},
     "output_type": "execute_result"
    }
   ],
   "source": [
    "regr.fit(X_train, y_train)"
   ]
  },
  {
   "cell_type": "code",
   "execution_count": 18,
   "id": "83a4e71e",
   "metadata": {},
   "outputs": [],
   "source": [
    "ypred = regr.predict(X_test)"
   ]
  },
  {
   "cell_type": "code",
   "execution_count": 19,
   "id": "a5f8fa30",
   "metadata": {},
   "outputs": [
    {
     "data": {
      "text/plain": [
       "0.5423198771596631"
      ]
     },
     "execution_count": 19,
     "metadata": {},
     "output_type": "execute_result"
    }
   ],
   "source": [
    "from sklearn.metrics import r2_score\n",
    "lr_score=r2_score(y_test, ypred)\n",
    "lr_score"
   ]
  },
  {
   "cell_type": "markdown",
   "id": "0f21203b",
   "metadata": {},
   "source": [
    "The sklearn.linear_model.LinearRegression does not have parameters that can be tuned. (why?) "
   ]
  },
  {
   "cell_type": "markdown",
   "id": "6f948a25",
   "metadata": {},
   "source": [
    "# 3 KNN"
   ]
  },
  {
   "cell_type": "code",
   "execution_count": 63,
   "id": "2f486178",
   "metadata": {},
   "outputs": [],
   "source": [
    "from sklearn.preprocessing import MinMaxScaler\n",
    "scaler = MinMaxScaler(feature_range=(0, 1))\n",
    "\n",
    "x_train_scaled = scaler.fit_transform(X_train)\n",
    "x_train = pd.DataFrame(x_train_scaled)\n",
    "\n",
    "x_test_scaled = scaler.fit_transform(X_test)\n",
    "x_test = pd.DataFrame(x_test_scaled)"
   ]
  },
  {
   "cell_type": "code",
   "execution_count": 64,
   "id": "32e2e9d6",
   "metadata": {},
   "outputs": [
    {
     "data": {
      "text/html": [
       "<div>\n",
       "<style scoped>\n",
       "    .dataframe tbody tr th:only-of-type {\n",
       "        vertical-align: middle;\n",
       "    }\n",
       "\n",
       "    .dataframe tbody tr th {\n",
       "        vertical-align: top;\n",
       "    }\n",
       "\n",
       "    .dataframe thead th {\n",
       "        text-align: right;\n",
       "    }\n",
       "</style>\n",
       "<table border=\"1\" class=\"dataframe\">\n",
       "  <thead>\n",
       "    <tr style=\"text-align: right;\">\n",
       "      <th></th>\n",
       "      <th>0</th>\n",
       "      <th>1</th>\n",
       "      <th>2</th>\n",
       "      <th>3</th>\n",
       "      <th>4</th>\n",
       "      <th>5</th>\n",
       "      <th>6</th>\n",
       "      <th>7</th>\n",
       "      <th>8</th>\n",
       "      <th>9</th>\n",
       "      <th>10</th>\n",
       "      <th>11</th>\n",
       "      <th>12</th>\n",
       "      <th>13</th>\n",
       "      <th>14</th>\n",
       "    </tr>\n",
       "  </thead>\n",
       "  <tbody>\n",
       "    <tr>\n",
       "      <th>0</th>\n",
       "      <td>0.956522</td>\n",
       "      <td>0.334501</td>\n",
       "      <td>0.938776</td>\n",
       "      <td>0.081081</td>\n",
       "      <td>0.101678</td>\n",
       "      <td>0.531142</td>\n",
       "      <td>0.000000</td>\n",
       "      <td>0.000000</td>\n",
       "      <td>0.113636</td>\n",
       "      <td>0.0</td>\n",
       "      <td>0.0</td>\n",
       "      <td>0.0</td>\n",
       "      <td>0.0</td>\n",
       "      <td>0.0</td>\n",
       "      <td>1.0</td>\n",
       "    </tr>\n",
       "    <tr>\n",
       "      <th>1</th>\n",
       "      <td>0.130435</td>\n",
       "      <td>0.518389</td>\n",
       "      <td>0.877551</td>\n",
       "      <td>0.216216</td>\n",
       "      <td>0.907982</td>\n",
       "      <td>0.693772</td>\n",
       "      <td>0.000000</td>\n",
       "      <td>0.014286</td>\n",
       "      <td>0.000000</td>\n",
       "      <td>0.0</td>\n",
       "      <td>0.0</td>\n",
       "      <td>1.0</td>\n",
       "      <td>0.0</td>\n",
       "      <td>0.0</td>\n",
       "      <td>0.0</td>\n",
       "    </tr>\n",
       "    <tr>\n",
       "      <th>2</th>\n",
       "      <td>0.652174</td>\n",
       "      <td>0.492119</td>\n",
       "      <td>0.438776</td>\n",
       "      <td>0.337838</td>\n",
       "      <td>1.000000</td>\n",
       "      <td>0.500000</td>\n",
       "      <td>0.696023</td>\n",
       "      <td>0.000000</td>\n",
       "      <td>0.000000</td>\n",
       "      <td>0.0</td>\n",
       "      <td>0.0</td>\n",
       "      <td>0.0</td>\n",
       "      <td>1.0</td>\n",
       "      <td>0.0</td>\n",
       "      <td>0.0</td>\n",
       "    </tr>\n",
       "    <tr>\n",
       "      <th>3</th>\n",
       "      <td>0.130435</td>\n",
       "      <td>0.626970</td>\n",
       "      <td>0.653061</td>\n",
       "      <td>0.175676</td>\n",
       "      <td>0.776309</td>\n",
       "      <td>0.719723</td>\n",
       "      <td>0.000000</td>\n",
       "      <td>0.000000</td>\n",
       "      <td>0.000000</td>\n",
       "      <td>0.0</td>\n",
       "      <td>0.0</td>\n",
       "      <td>0.0</td>\n",
       "      <td>0.0</td>\n",
       "      <td>1.0</td>\n",
       "      <td>0.0</td>\n",
       "    </tr>\n",
       "    <tr>\n",
       "      <th>4</th>\n",
       "      <td>0.826087</td>\n",
       "      <td>0.707531</td>\n",
       "      <td>0.346939</td>\n",
       "      <td>0.202703</td>\n",
       "      <td>1.000000</td>\n",
       "      <td>0.631488</td>\n",
       "      <td>0.144886</td>\n",
       "      <td>0.000000</td>\n",
       "      <td>0.000000</td>\n",
       "      <td>0.0</td>\n",
       "      <td>0.0</td>\n",
       "      <td>0.0</td>\n",
       "      <td>1.0</td>\n",
       "      <td>0.0</td>\n",
       "      <td>0.0</td>\n",
       "    </tr>\n",
       "    <tr>\n",
       "      <th>...</th>\n",
       "      <td>...</td>\n",
       "      <td>...</td>\n",
       "      <td>...</td>\n",
       "      <td>...</td>\n",
       "      <td>...</td>\n",
       "      <td>...</td>\n",
       "      <td>...</td>\n",
       "      <td>...</td>\n",
       "      <td>...</td>\n",
       "      <td>...</td>\n",
       "      <td>...</td>\n",
       "      <td>...</td>\n",
       "      <td>...</td>\n",
       "      <td>...</td>\n",
       "      <td>...</td>\n",
       "    </tr>\n",
       "    <tr>\n",
       "      <th>5601</th>\n",
       "      <td>0.391304</td>\n",
       "      <td>0.746060</td>\n",
       "      <td>0.765306</td>\n",
       "      <td>0.148649</td>\n",
       "      <td>0.704118</td>\n",
       "      <td>0.875433</td>\n",
       "      <td>0.178977</td>\n",
       "      <td>0.000000</td>\n",
       "      <td>0.000000</td>\n",
       "      <td>0.0</td>\n",
       "      <td>0.0</td>\n",
       "      <td>0.0</td>\n",
       "      <td>0.0</td>\n",
       "      <td>1.0</td>\n",
       "      <td>0.0</td>\n",
       "    </tr>\n",
       "    <tr>\n",
       "      <th>5602</th>\n",
       "      <td>1.000000</td>\n",
       "      <td>0.760070</td>\n",
       "      <td>0.765306</td>\n",
       "      <td>0.013514</td>\n",
       "      <td>0.945094</td>\n",
       "      <td>0.889273</td>\n",
       "      <td>0.000000</td>\n",
       "      <td>0.000000</td>\n",
       "      <td>0.000000</td>\n",
       "      <td>0.0</td>\n",
       "      <td>0.0</td>\n",
       "      <td>0.0</td>\n",
       "      <td>0.0</td>\n",
       "      <td>1.0</td>\n",
       "      <td>0.0</td>\n",
       "    </tr>\n",
       "    <tr>\n",
       "      <th>5603</th>\n",
       "      <td>0.739130</td>\n",
       "      <td>0.366025</td>\n",
       "      <td>0.142857</td>\n",
       "      <td>0.500000</td>\n",
       "      <td>1.000000</td>\n",
       "      <td>0.150519</td>\n",
       "      <td>0.284091</td>\n",
       "      <td>0.000000</td>\n",
       "      <td>0.000000</td>\n",
       "      <td>0.0</td>\n",
       "      <td>0.0</td>\n",
       "      <td>0.0</td>\n",
       "      <td>0.0</td>\n",
       "      <td>0.0</td>\n",
       "      <td>1.0</td>\n",
       "    </tr>\n",
       "    <tr>\n",
       "      <th>5604</th>\n",
       "      <td>0.478261</td>\n",
       "      <td>0.697023</td>\n",
       "      <td>0.979592</td>\n",
       "      <td>0.216216</td>\n",
       "      <td>0.289273</td>\n",
       "      <td>0.897924</td>\n",
       "      <td>0.102273</td>\n",
       "      <td>0.014286</td>\n",
       "      <td>0.000000</td>\n",
       "      <td>0.0</td>\n",
       "      <td>0.0</td>\n",
       "      <td>0.0</td>\n",
       "      <td>0.0</td>\n",
       "      <td>1.0</td>\n",
       "      <td>0.0</td>\n",
       "    </tr>\n",
       "    <tr>\n",
       "      <th>5605</th>\n",
       "      <td>1.000000</td>\n",
       "      <td>0.362522</td>\n",
       "      <td>0.867347</td>\n",
       "      <td>0.121622</td>\n",
       "      <td>0.404677</td>\n",
       "      <td>0.539792</td>\n",
       "      <td>0.000000</td>\n",
       "      <td>0.000000</td>\n",
       "      <td>0.000000</td>\n",
       "      <td>0.0</td>\n",
       "      <td>0.0</td>\n",
       "      <td>0.0</td>\n",
       "      <td>1.0</td>\n",
       "      <td>0.0</td>\n",
       "      <td>0.0</td>\n",
       "    </tr>\n",
       "  </tbody>\n",
       "</table>\n",
       "<p>5606 rows × 15 columns</p>\n",
       "</div>"
      ],
      "text/plain": [
       "            0         1         2         3         4         5         6   \\\n",
       "0     0.956522  0.334501  0.938776  0.081081  0.101678  0.531142  0.000000   \n",
       "1     0.130435  0.518389  0.877551  0.216216  0.907982  0.693772  0.000000   \n",
       "2     0.652174  0.492119  0.438776  0.337838  1.000000  0.500000  0.696023   \n",
       "3     0.130435  0.626970  0.653061  0.175676  0.776309  0.719723  0.000000   \n",
       "4     0.826087  0.707531  0.346939  0.202703  1.000000  0.631488  0.144886   \n",
       "...        ...       ...       ...       ...       ...       ...       ...   \n",
       "5601  0.391304  0.746060  0.765306  0.148649  0.704118  0.875433  0.178977   \n",
       "5602  1.000000  0.760070  0.765306  0.013514  0.945094  0.889273  0.000000   \n",
       "5603  0.739130  0.366025  0.142857  0.500000  1.000000  0.150519  0.284091   \n",
       "5604  0.478261  0.697023  0.979592  0.216216  0.289273  0.897924  0.102273   \n",
       "5605  1.000000  0.362522  0.867347  0.121622  0.404677  0.539792  0.000000   \n",
       "\n",
       "            7         8    9    10   11   12   13   14  \n",
       "0     0.000000  0.113636  0.0  0.0  0.0  0.0  0.0  1.0  \n",
       "1     0.014286  0.000000  0.0  0.0  1.0  0.0  0.0  0.0  \n",
       "2     0.000000  0.000000  0.0  0.0  0.0  1.0  0.0  0.0  \n",
       "3     0.000000  0.000000  0.0  0.0  0.0  0.0  1.0  0.0  \n",
       "4     0.000000  0.000000  0.0  0.0  0.0  1.0  0.0  0.0  \n",
       "...        ...       ...  ...  ...  ...  ...  ...  ...  \n",
       "5601  0.000000  0.000000  0.0  0.0  0.0  0.0  1.0  0.0  \n",
       "5602  0.000000  0.000000  0.0  0.0  0.0  0.0  1.0  0.0  \n",
       "5603  0.000000  0.000000  0.0  0.0  0.0  0.0  0.0  1.0  \n",
       "5604  0.014286  0.000000  0.0  0.0  0.0  0.0  1.0  0.0  \n",
       "5605  0.000000  0.000000  0.0  0.0  0.0  1.0  0.0  0.0  \n",
       "\n",
       "[5606 rows x 15 columns]"
      ]
     },
     "execution_count": 64,
     "metadata": {},
     "output_type": "execute_result"
    }
   ],
   "source": [
    "x_train"
   ]
  },
  {
   "cell_type": "code",
   "execution_count": 65,
   "id": "b29f3a55",
   "metadata": {},
   "outputs": [],
   "source": [
    "from sklearn.neighbors import KNeighborsRegressor\n",
    "knn = KNeighborsRegressor(n_neighbors=3)\n",
    "model=knn.fit(x_train, y_train) \n",
    "ypred=model.predict(x_test)"
   ]
  },
  {
   "cell_type": "code",
   "execution_count": 66,
   "id": "a7d323d5",
   "metadata": {},
   "outputs": [
    {
     "data": {
      "text/plain": [
       "0.7675052040508485"
      ]
     },
     "execution_count": 66,
     "metadata": {},
     "output_type": "execute_result"
    }
   ],
   "source": [
    "\n",
    "knn_score=r2_score(y_test, ypred)\n",
    "knn_score"
   ]
  },
  {
   "cell_type": "markdown",
   "id": "a4ff5b8b",
   "metadata": {},
   "source": [
    "### Understanding Parameters and Trying different types of parametes\n",
    "\n",
    "\n",
    "https://scikit-learn.org/stable/modules/generated/sklearn.neighbors.KNeighborsRegressor.html"
   ]
  },
  {
   "cell_type": "code",
   "execution_count": 67,
   "id": "495dd7c0",
   "metadata": {},
   "outputs": [
    {
     "data": {
      "text/plain": [
       "{'algorithm': 'auto',\n",
       " 'leaf_size': 30,\n",
       " 'metric': 'minkowski',\n",
       " 'metric_params': None,\n",
       " 'n_jobs': None,\n",
       " 'n_neighbors': 3,\n",
       " 'p': 2,\n",
       " 'weights': 'uniform'}"
      ]
     },
     "execution_count": 67,
     "metadata": {},
     "output_type": "execute_result"
    }
   ],
   "source": [
    "knn.get_params()"
   ]
  },
  {
   "cell_type": "markdown",
   "id": "0e4b07d6",
   "metadata": {},
   "source": [
    "## Hyperparameter tuning on KNN Regressor"
   ]
  },
  {
   "cell_type": "code",
   "execution_count": 68,
   "id": "17aa6d98",
   "metadata": {},
   "outputs": [
    {
     "name": "stdout",
     "output_type": "stream",
     "text": [
      "Best leaf_size: 5\n",
      "Best p: 1\n",
      "Best n_neighbors: 6\n"
     ]
    }
   ],
   "source": [
    "from sklearn.model_selection import GridSearchCV\n",
    "\n",
    "#List Hyperparameters that we want to tune.\n",
    "leaf_size = list(range(5,20))\n",
    "n_neighbors = list(range(5,20))\n",
    "p=[1,2]\n",
    "\n",
    "#Convert to dictionary\n",
    "hyperparameters = dict(leaf_size=leaf_size, n_neighbors=n_neighbors, p=p)\n",
    "\n",
    "#Use GridSearch\n",
    "gscv = GridSearchCV(knn, hyperparameters, cv=3)\n",
    "#Fit the model\n",
    "best_model = gscv.fit(x_train,y_train)\n",
    "#Print The value of best Hyperparameters\n",
    "print('Best leaf_size:', best_model.best_estimator_.get_params()['leaf_size'])\n",
    "print('Best p:', best_model.best_estimator_.get_params()['p'])\n",
    "print('Best n_neighbors:', best_model.best_estimator_.get_params()['n_neighbors'])"
   ]
  },
  {
   "cell_type": "code",
   "execution_count": 69,
   "id": "0457e913",
   "metadata": {},
   "outputs": [
    {
     "data": {
      "text/plain": [
       "0.7945844563568905"
      ]
     },
     "execution_count": 69,
     "metadata": {},
     "output_type": "execute_result"
    }
   ],
   "source": [
    "knn_hyper= KNeighborsRegressor(n_neighbors=6, p=1, leaf_size= 5)\n",
    "model=knn_hyper.fit(x_train, y_train)\n",
    "ypred= model.predict(x_test)\n",
    "\n",
    "knn_hyper_score=r2_score(y_test, ypred)\n",
    "knn_hyper_score"
   ]
  },
  {
   "cell_type": "code",
   "execution_count": 70,
   "id": "c35b13e1",
   "metadata": {},
   "outputs": [
    {
     "data": {
      "text/html": [
       "<div>\n",
       "<style scoped>\n",
       "    .dataframe tbody tr th:only-of-type {\n",
       "        vertical-align: middle;\n",
       "    }\n",
       "\n",
       "    .dataframe tbody tr th {\n",
       "        vertical-align: top;\n",
       "    }\n",
       "\n",
       "    .dataframe thead th {\n",
       "        text-align: right;\n",
       "    }\n",
       "</style>\n",
       "<table border=\"1\" class=\"dataframe\">\n",
       "  <thead>\n",
       "    <tr style=\"text-align: right;\">\n",
       "      <th></th>\n",
       "      <th>mean_fit_time</th>\n",
       "      <th>std_fit_time</th>\n",
       "      <th>mean_score_time</th>\n",
       "      <th>std_score_time</th>\n",
       "      <th>param_leaf_size</th>\n",
       "      <th>param_n_neighbors</th>\n",
       "      <th>param_p</th>\n",
       "      <th>params</th>\n",
       "      <th>split0_test_score</th>\n",
       "      <th>split1_test_score</th>\n",
       "      <th>split2_test_score</th>\n",
       "      <th>mean_test_score</th>\n",
       "      <th>std_test_score</th>\n",
       "      <th>rank_test_score</th>\n",
       "    </tr>\n",
       "  </thead>\n",
       "  <tbody>\n",
       "    <tr>\n",
       "      <th>0</th>\n",
       "      <td>0.011004</td>\n",
       "      <td>3.806195e-03</td>\n",
       "      <td>0.055554</td>\n",
       "      <td>0.011378</td>\n",
       "      <td>5</td>\n",
       "      <td>5</td>\n",
       "      <td>1</td>\n",
       "      <td>{'leaf_size': 5, 'n_neighbors': 5, 'p': 1}</td>\n",
       "      <td>0.800988</td>\n",
       "      <td>0.788129</td>\n",
       "      <td>0.791067</td>\n",
       "      <td>0.793395</td>\n",
       "      <td>0.005502</td>\n",
       "      <td>16</td>\n",
       "    </tr>\n",
       "    <tr>\n",
       "      <th>1</th>\n",
       "      <td>0.010901</td>\n",
       "      <td>3.904953e-03</td>\n",
       "      <td>0.095037</td>\n",
       "      <td>0.021104</td>\n",
       "      <td>5</td>\n",
       "      <td>5</td>\n",
       "      <td>2</td>\n",
       "      <td>{'leaf_size': 5, 'n_neighbors': 5, 'p': 2}</td>\n",
       "      <td>0.787464</td>\n",
       "      <td>0.775466</td>\n",
       "      <td>0.791220</td>\n",
       "      <td>0.784717</td>\n",
       "      <td>0.006718</td>\n",
       "      <td>106</td>\n",
       "    </tr>\n",
       "    <tr>\n",
       "      <th>2</th>\n",
       "      <td>0.007919</td>\n",
       "      <td>1.198134e-04</td>\n",
       "      <td>0.061421</td>\n",
       "      <td>0.020069</td>\n",
       "      <td>5</td>\n",
       "      <td>6</td>\n",
       "      <td>1</td>\n",
       "      <td>{'leaf_size': 5, 'n_neighbors': 6, 'p': 1}</td>\n",
       "      <td>0.802757</td>\n",
       "      <td>0.783218</td>\n",
       "      <td>0.795836</td>\n",
       "      <td>0.793937</td>\n",
       "      <td>0.008089</td>\n",
       "      <td>1</td>\n",
       "    </tr>\n",
       "    <tr>\n",
       "      <th>3</th>\n",
       "      <td>0.008001</td>\n",
       "      <td>2.247832e-07</td>\n",
       "      <td>0.096010</td>\n",
       "      <td>0.022630</td>\n",
       "      <td>5</td>\n",
       "      <td>6</td>\n",
       "      <td>2</td>\n",
       "      <td>{'leaf_size': 5, 'n_neighbors': 6, 'p': 2}</td>\n",
       "      <td>0.790637</td>\n",
       "      <td>0.771414</td>\n",
       "      <td>0.793148</td>\n",
       "      <td>0.785066</td>\n",
       "      <td>0.009708</td>\n",
       "      <td>91</td>\n",
       "    </tr>\n",
       "    <tr>\n",
       "      <th>4</th>\n",
       "      <td>0.007920</td>\n",
       "      <td>1.276554e-04</td>\n",
       "      <td>0.061567</td>\n",
       "      <td>0.013430</td>\n",
       "      <td>5</td>\n",
       "      <td>7</td>\n",
       "      <td>1</td>\n",
       "      <td>{'leaf_size': 5, 'n_neighbors': 7, 'p': 1}</td>\n",
       "      <td>0.799475</td>\n",
       "      <td>0.781941</td>\n",
       "      <td>0.796851</td>\n",
       "      <td>0.792756</td>\n",
       "      <td>0.007722</td>\n",
       "      <td>31</td>\n",
       "    </tr>\n",
       "  </tbody>\n",
       "</table>\n",
       "</div>"
      ],
      "text/plain": [
       "   mean_fit_time  std_fit_time  mean_score_time  std_score_time  \\\n",
       "0       0.011004  3.806195e-03         0.055554        0.011378   \n",
       "1       0.010901  3.904953e-03         0.095037        0.021104   \n",
       "2       0.007919  1.198134e-04         0.061421        0.020069   \n",
       "3       0.008001  2.247832e-07         0.096010        0.022630   \n",
       "4       0.007920  1.276554e-04         0.061567        0.013430   \n",
       "\n",
       "  param_leaf_size param_n_neighbors param_p  \\\n",
       "0               5                 5       1   \n",
       "1               5                 5       2   \n",
       "2               5                 6       1   \n",
       "3               5                 6       2   \n",
       "4               5                 7       1   \n",
       "\n",
       "                                       params  split0_test_score  \\\n",
       "0  {'leaf_size': 5, 'n_neighbors': 5, 'p': 1}           0.800988   \n",
       "1  {'leaf_size': 5, 'n_neighbors': 5, 'p': 2}           0.787464   \n",
       "2  {'leaf_size': 5, 'n_neighbors': 6, 'p': 1}           0.802757   \n",
       "3  {'leaf_size': 5, 'n_neighbors': 6, 'p': 2}           0.790637   \n",
       "4  {'leaf_size': 5, 'n_neighbors': 7, 'p': 1}           0.799475   \n",
       "\n",
       "   split1_test_score  split2_test_score  mean_test_score  std_test_score  \\\n",
       "0           0.788129           0.791067         0.793395        0.005502   \n",
       "1           0.775466           0.791220         0.784717        0.006718   \n",
       "2           0.783218           0.795836         0.793937        0.008089   \n",
       "3           0.771414           0.793148         0.785066        0.009708   \n",
       "4           0.781941           0.796851         0.792756        0.007722   \n",
       "\n",
       "   rank_test_score  \n",
       "0               16  \n",
       "1              106  \n",
       "2                1  \n",
       "3               91  \n",
       "4               31  "
      ]
     },
     "execution_count": 70,
     "metadata": {},
     "output_type": "execute_result"
    }
   ],
   "source": [
    "params= pd.DataFrame(data= gscv.cv_results_)\n",
    "params.head()"
   ]
  },
  {
   "cell_type": "code",
   "execution_count": 71,
   "id": "ed3adec7",
   "metadata": {},
   "outputs": [
    {
     "data": {
      "image/png": "[encoded data removed]",
      "text/plain": [
       "<Figure size 1080x576 with 1 Axes>"
      ]
     },
     "metadata": {},
     "output_type": "display_data"
    }
   ],
   "source": [
    "fig,ax = plt.subplots()\n",
    "sns.pointplot(data=params[['mean_test_score','param_n_neighbors']],\n",
    "             y='mean_test_score',x='param_n_neighbors', ax=ax)\n",
    "sns.set(rc={'figure.figsize':(15,8)})\n"
   ]
  },
  {
   "cell_type": "code",
   "execution_count": 72,
   "id": "e44008f9",
   "metadata": {},
   "outputs": [
    {
     "data": {
      "image/png": "[encoded data removed]",
      "text/plain": [
       "<Figure size 1080x576 with 1 Axes>"
      ]
     },
     "metadata": {},
     "output_type": "display_data"
    }
   ],
   "source": [
    "fig,ax = plt.subplots()\n",
    "sns.pointplot(data=params[['mean_test_score','param_leaf_size']],\n",
    "             y='mean_test_score',x='param_leaf_size', ax=ax)\n",
    "sns.set(rc={'figure.figsize':(15,8)})\n"
   ]
  },
  {
   "cell_type": "markdown",
   "id": "fe699eaa",
   "metadata": {},
   "source": [
    "# 4 Random Forest Regressor"
   ]
  },
  {
   "cell_type": "code",
   "execution_count": 48,
   "id": "365e8162",
   "metadata": {},
   "outputs": [],
   "source": [
    "from sklearn.ensemble import RandomForestRegressor\n",
    "rfr= RandomForestRegressor(max_depth=5)\n",
    "model= rfr.fit(X_train, y_train)\n",
    "ypred= model.predict(X_test)"
   ]
  },
  {
   "cell_type": "code",
   "execution_count": 49,
   "id": "58377984",
   "metadata": {},
   "outputs": [
    {
     "data": {
      "text/plain": [
       "0.7702999270187754"
      ]
     },
     "execution_count": 49,
     "metadata": {},
     "output_type": "execute_result"
    }
   ],
   "source": [
    "rfr_score=r2_score(y_test,ypred)\n",
    "rfr_score"
   ]
  },
  {
   "cell_type": "markdown",
   "id": "b787e8c3",
   "metadata": {},
   "source": [
    "### Understanding Parameters and Trying different types of parametes\n",
    "\n",
    "https://scikit-learn.org/stable/modules/generated/sklearn.ensemble.RandomForestRegressor.html"
   ]
  },
  {
   "cell_type": "code",
   "execution_count": 50,
   "id": "34bd9d90",
   "metadata": {},
   "outputs": [
    {
     "data": {
      "text/plain": [
       "{'bootstrap': True,\n",
       " 'ccp_alpha': 0.0,\n",
       " 'criterion': 'mse',\n",
       " 'max_depth': 5,\n",
       " 'max_features': 'auto',\n",
       " 'max_leaf_nodes': None,\n",
       " 'max_samples': None,\n",
       " 'min_impurity_decrease': 0.0,\n",
       " 'min_impurity_split': None,\n",
       " 'min_samples_leaf': 1,\n",
       " 'min_samples_split': 2,\n",
       " 'min_weight_fraction_leaf': 0.0,\n",
       " 'n_estimators': 100,\n",
       " 'n_jobs': None,\n",
       " 'oob_score': False,\n",
       " 'random_state': None,\n",
       " 'verbose': 0,\n",
       " 'warm_start': False}"
      ]
     },
     "execution_count": 50,
     "metadata": {},
     "output_type": "execute_result"
    }
   ],
   "source": [
    "rfr.get_params()"
   ]
  },
  {
   "cell_type": "markdown",
   "id": "d6f8dc89",
   "metadata": {},
   "source": [
    "## Hypter parameter tuning on our Random Forest Regressor "
   ]
  },
  {
   "cell_type": "code",
   "execution_count": 33,
   "id": "be55ae1b",
   "metadata": {},
   "outputs": [],
   "source": [
    "from sklearn.model_selection import RandomizedSearchCV\n",
    "# Number of trees in random forest\n",
    "n_estimators = [int(x) for x in np.linspace(start = 400, stop = 2000, num = 10)]\n",
    "# Number of features to consider at every split\n",
    "max_features = ['auto', 'sqrt']\n",
    "# Maximum number of levels in tree\n",
    "max_depth = [int(x) for x in np.linspace(10, 110, num = 11)]\n",
    "max_depth.append(None)\n",
    "# Minimum number of samples required to split a node\n",
    "min_samples_split = [2, 5, 12]\n",
    "# Minimum number of samples required at each leaf node\n",
    "min_samples_leaf = [1, 2, 3]\n",
    "# Method of selecting samples for training each tree\n",
    "bootstrap = [True, False]\n",
    "# Create the random grid\n",
    "random_grid = {'n_estimators': n_estimators,\n",
    "               'max_features': max_features,\n",
    "               'max_depth': max_depth,\n",
    "               'min_samples_split': min_samples_split,\n",
    "               'min_samples_leaf': min_samples_leaf,\n",
    "               'bootstrap': bootstrap}"
   ]
  },
  {
   "cell_type": "code",
   "execution_count": 51,
   "id": "867f83e7",
   "metadata": {},
   "outputs": [],
   "source": [
    "# Random search of parameters, using 3 fold cross validation, \n",
    "# search across 100 different combinations, and use all available cores\n",
    "rfr_random = RandomizedSearchCV(estimator = rfr, param_distributions = random_grid, n_iter = 100, cv = 3, verbose=2, random_state=42, n_jobs = -1)"
   ]
  },
  {
   "cell_type": "code",
   "execution_count": 52,
   "id": "6b96b7ed",
   "metadata": {},
   "outputs": [
    {
     "name": "stdout",
     "output_type": "stream",
     "text": [
      "Fitting 3 folds for each of 100 candidates, totalling 300 fits\n"
     ]
    }
   ],
   "source": [
    "model= rfr_random.fit(X_train,y_train)"
   ]
  },
  {
   "cell_type": "code",
   "execution_count": 53,
   "id": "66d9f68e",
   "metadata": {},
   "outputs": [
    {
     "data": {
      "text/plain": [
       "{'n_estimators': 2000,\n",
       " 'min_samples_split': 2,\n",
       " 'min_samples_leaf': 2,\n",
       " 'max_features': 'auto',\n",
       " 'max_depth': 90,\n",
       " 'bootstrap': True}"
      ]
     },
     "execution_count": 53,
     "metadata": {},
     "output_type": "execute_result"
    }
   ],
   "source": [
    "rfr_random.best_params_"
   ]
  },
  {
   "cell_type": "code",
   "execution_count": 54,
   "id": "ecc8318f",
   "metadata": {},
   "outputs": [
    {
     "data": {
      "text/plain": [
       "0.8671995197483828"
      ]
     },
     "execution_count": 54,
     "metadata": {},
     "output_type": "execute_result"
    }
   ],
   "source": [
    "hyper_rfr= RandomForestRegressor(n_estimators=2000, min_samples_split=2, min_samples_leaf=2, max_features='auto', max_depth= 90, bootstrap=True)\n",
    "model= hyper_rfr.fit(X_train, y_train)\n",
    "ypred=model.predict(X_test)\n",
    "rfr_hyper=r2_score(y_test, ypred)\n",
    "rfr_hyper"
   ]
  },
  {
   "cell_type": "code",
   "execution_count": 55,
   "id": "f01e6465",
   "metadata": {},
   "outputs": [
    {
     "data": {
      "text/html": [
       "<div>\n",
       "<style scoped>\n",
       "    .dataframe tbody tr th:only-of-type {\n",
       "        vertical-align: middle;\n",
       "    }\n",
       "\n",
       "    .dataframe tbody tr th {\n",
       "        vertical-align: top;\n",
       "    }\n",
       "\n",
       "    .dataframe thead th {\n",
       "        text-align: right;\n",
       "    }\n",
       "</style>\n",
       "<table border=\"1\" class=\"dataframe\">\n",
       "  <thead>\n",
       "    <tr style=\"text-align: right;\">\n",
       "      <th></th>\n",
       "      <th>mean_fit_time</th>\n",
       "      <th>std_fit_time</th>\n",
       "      <th>mean_score_time</th>\n",
       "      <th>std_score_time</th>\n",
       "      <th>param_n_estimators</th>\n",
       "      <th>param_min_samples_split</th>\n",
       "      <th>param_min_samples_leaf</th>\n",
       "      <th>param_max_features</th>\n",
       "      <th>param_max_depth</th>\n",
       "      <th>param_bootstrap</th>\n",
       "      <th>params</th>\n",
       "      <th>split0_test_score</th>\n",
       "      <th>split1_test_score</th>\n",
       "      <th>split2_test_score</th>\n",
       "      <th>mean_test_score</th>\n",
       "      <th>std_test_score</th>\n",
       "      <th>rank_test_score</th>\n",
       "    </tr>\n",
       "  </thead>\n",
       "  <tbody>\n",
       "    <tr>\n",
       "      <th>0</th>\n",
       "      <td>2.888462</td>\n",
       "      <td>0.009979</td>\n",
       "      <td>0.194906</td>\n",
       "      <td>0.000035</td>\n",
       "      <td>577</td>\n",
       "      <td>5</td>\n",
       "      <td>1</td>\n",
       "      <td>sqrt</td>\n",
       "      <td>30</td>\n",
       "      <td>True</td>\n",
       "      <td>{'n_estimators': 577, 'min_samples_split': 5, ...</td>\n",
       "      <td>0.863380</td>\n",
       "      <td>0.851492</td>\n",
       "      <td>0.847229</td>\n",
       "      <td>0.854033</td>\n",
       "      <td>0.006834</td>\n",
       "      <td>35</td>\n",
       "    </tr>\n",
       "    <tr>\n",
       "      <th>1</th>\n",
       "      <td>7.453195</td>\n",
       "      <td>0.044466</td>\n",
       "      <td>0.477384</td>\n",
       "      <td>0.003773</td>\n",
       "      <td>2000</td>\n",
       "      <td>5</td>\n",
       "      <td>1</td>\n",
       "      <td>sqrt</td>\n",
       "      <td>10</td>\n",
       "      <td>True</td>\n",
       "      <td>{'n_estimators': 2000, 'min_samples_split': 5,...</td>\n",
       "      <td>0.828692</td>\n",
       "      <td>0.821947</td>\n",
       "      <td>0.818910</td>\n",
       "      <td>0.823183</td>\n",
       "      <td>0.004088</td>\n",
       "      <td>73</td>\n",
       "    </tr>\n",
       "    <tr>\n",
       "      <th>2</th>\n",
       "      <td>5.879455</td>\n",
       "      <td>0.028476</td>\n",
       "      <td>0.314701</td>\n",
       "      <td>0.003771</td>\n",
       "      <td>1288</td>\n",
       "      <td>5</td>\n",
       "      <td>2</td>\n",
       "      <td>sqrt</td>\n",
       "      <td>10</td>\n",
       "      <td>False</td>\n",
       "      <td>{'n_estimators': 1288, 'min_samples_split': 5,...</td>\n",
       "      <td>0.830878</td>\n",
       "      <td>0.825031</td>\n",
       "      <td>0.822126</td>\n",
       "      <td>0.826012</td>\n",
       "      <td>0.003640</td>\n",
       "      <td>71</td>\n",
       "    </tr>\n",
       "    <tr>\n",
       "      <th>3</th>\n",
       "      <td>42.195431</td>\n",
       "      <td>0.474623</td>\n",
       "      <td>0.614943</td>\n",
       "      <td>0.005218</td>\n",
       "      <td>2000</td>\n",
       "      <td>2</td>\n",
       "      <td>3</td>\n",
       "      <td>auto</td>\n",
       "      <td>30</td>\n",
       "      <td>False</td>\n",
       "      <td>{'n_estimators': 2000, 'min_samples_split': 2,...</td>\n",
       "      <td>0.781342</td>\n",
       "      <td>0.784636</td>\n",
       "      <td>0.782429</td>\n",
       "      <td>0.782803</td>\n",
       "      <td>0.001370</td>\n",
       "      <td>92</td>\n",
       "    </tr>\n",
       "    <tr>\n",
       "      <th>4</th>\n",
       "      <td>6.108814</td>\n",
       "      <td>0.111694</td>\n",
       "      <td>0.396970</td>\n",
       "      <td>0.009553</td>\n",
       "      <td>1644</td>\n",
       "      <td>2</td>\n",
       "      <td>3</td>\n",
       "      <td>sqrt</td>\n",
       "      <td>10</td>\n",
       "      <td>True</td>\n",
       "      <td>{'n_estimators': 1644, 'min_samples_split': 2,...</td>\n",
       "      <td>0.822513</td>\n",
       "      <td>0.816555</td>\n",
       "      <td>0.811361</td>\n",
       "      <td>0.816810</td>\n",
       "      <td>0.004557</td>\n",
       "      <td>75</td>\n",
       "    </tr>\n",
       "  </tbody>\n",
       "</table>\n",
       "</div>"
      ],
      "text/plain": [
       "   mean_fit_time  std_fit_time  mean_score_time  std_score_time  \\\n",
       "0       2.888462      0.009979         0.194906        0.000035   \n",
       "1       7.453195      0.044466         0.477384        0.003773   \n",
       "2       5.879455      0.028476         0.314701        0.003771   \n",
       "3      42.195431      0.474623         0.614943        0.005218   \n",
       "4       6.108814      0.111694         0.396970        0.009553   \n",
       "\n",
       "  param_n_estimators param_min_samples_split param_min_samples_leaf  \\\n",
       "0                577                       5                      1   \n",
       "1               2000                       5                      1   \n",
       "2               1288                       5                      2   \n",
       "3               2000                       2                      3   \n",
       "4               1644                       2                      3   \n",
       "\n",
       "  param_max_features param_max_depth param_bootstrap  \\\n",
       "0               sqrt              30            True   \n",
       "1               sqrt              10            True   \n",
       "2               sqrt              10           False   \n",
       "3               auto              30           False   \n",
       "4               sqrt              10            True   \n",
       "\n",
       "                                              params  split0_test_score  \\\n",
       "0  {'n_estimators': 577, 'min_samples_split': 5, ...           0.863380   \n",
       "1  {'n_estimators': 2000, 'min_samples_split': 5,...           0.828692   \n",
       "2  {'n_estimators': 1288, 'min_samples_split': 5,...           0.830878   \n",
       "3  {'n_estimators': 2000, 'min_samples_split': 2,...           0.781342   \n",
       "4  {'n_estimators': 1644, 'min_samples_split': 2,...           0.822513   \n",
       "\n",
       "   split1_test_score  split2_test_score  mean_test_score  std_test_score  \\\n",
       "0           0.851492           0.847229         0.854033        0.006834   \n",
       "1           0.821947           0.818910         0.823183        0.004088   \n",
       "2           0.825031           0.822126         0.826012        0.003640   \n",
       "3           0.784636           0.782429         0.782803        0.001370   \n",
       "4           0.816555           0.811361         0.816810        0.004557   \n",
       "\n",
       "   rank_test_score  \n",
       "0               35  \n",
       "1               73  \n",
       "2               71  \n",
       "3               92  \n",
       "4               75  "
      ]
     },
     "execution_count": 55,
     "metadata": {},
     "output_type": "execute_result"
    }
   ],
   "source": [
    "params_rfr= pd.DataFrame(data= rfr_random.cv_results_)\n",
    "params_rfr.head()"
   ]
  },
  {
   "cell_type": "code",
   "execution_count": 56,
   "id": "3c618512",
   "metadata": {},
   "outputs": [
    {
     "data": {
      "image/png": "[encoded data removed]",
      "text/plain": [
       "<Figure size 1080x576 with 1 Axes>"
      ]
     },
     "metadata": {},
     "output_type": "display_data"
    }
   ],
   "source": [
    "fig,ax = plt.subplots()\n",
    "sns.pointplot(data=params_rfr[['mean_test_score','param_n_estimators']],\n",
    "             y='mean_test_score',x='param_n_estimators', ax=ax)\n",
    "sns.set(rc={'figure.figsize':(15,8)})\n"
   ]
  },
  {
   "cell_type": "code",
   "execution_count": 57,
   "id": "d5a468c0",
   "metadata": {},
   "outputs": [
    {
     "data": {
      "image/png": "[encoded data removed]",
      "text/plain": [
       "<Figure size 1080x576 with 1 Axes>"
      ]
     },
     "metadata": {},
     "output_type": "display_data"
    }
   ],
   "source": [
    "fig,ax = plt.subplots()\n",
    "sns.pointplot(data=params_rfr[['mean_test_score','param_max_depth']],\n",
    "             y='mean_test_score',x='param_max_depth', ax=ax)\n",
    "sns.set(rc={'figure.figsize':(15,8)})\n"
   ]
  },
  {
   "cell_type": "code",
   "execution_count": 58,
   "id": "d85c513c",
   "metadata": {},
   "outputs": [
    {
     "data": {
      "image/png": "[encoded data removed]",
      "text/plain": [
       "<Figure size 1080x576 with 1 Axes>"
      ]
     },
     "metadata": {},
     "output_type": "display_data"
    }
   ],
   "source": [
    "fig,ax = plt.subplots()\n",
    "sns.pointplot(data=params_rfr[['mean_test_score','param_min_samples_leaf']],\n",
    "             y='mean_test_score',x='param_min_samples_leaf', ax=ax)\n",
    "sns.set(rc={'figure.figsize':(15,8)})\n"
   ]
  },
  {
   "cell_type": "code",
   "execution_count": 59,
   "id": "63aa3ea0",
   "metadata": {},
   "outputs": [
    {
     "data": {
      "image/png": "[encoded data removed]",
      "text/plain": [
       "<Figure size 1080x576 with 1 Axes>"
      ]
     },
     "metadata": {},
     "output_type": "display_data"
    }
   ],
   "source": [
    "fig,ax = plt.subplots()\n",
    "sns.pointplot(data=params_rfr[['mean_test_score','param_min_samples_split']],\n",
    "             y='mean_test_score',x='param_min_samples_split', ax=ax)\n",
    "sns.set(rc={'figure.figsize':(15,8)})\n"
   ]
  },
  {
   "cell_type": "markdown",
   "id": "5538fee2",
   "metadata": {},
   "source": [
    "# Performing our model on validation set"
   ]
  },
  {
   "cell_type": "code",
   "execution_count": 60,
   "id": "b50cf762",
   "metadata": {},
   "outputs": [
    {
     "data": {
      "text/plain": [
       "0.8570414967867975"
      ]
     },
     "execution_count": 60,
     "metadata": {},
     "output_type": "execute_result"
    }
   ],
   "source": [
    "hyper_rfr= RandomForestRegressor(n_estimators=2000, min_samples_split=2, min_samples_leaf=2, max_features='auto', max_depth= 90, bootstrap=True)\n",
    "model= hyper_rfr.fit(X_train, y_train)\n",
    "ypred=model.predict(x1_test)\n",
    "unseen_data=r2_score(val_test, ypred)\n",
    "unseen_data"
   ]
  },
  {
   "cell_type": "markdown",
   "id": "bce8b650",
   "metadata": {},
   "source": [
    "# Resources\n",
    "https://scikit-learn.org/stable/modules/generated/sklearn.ensemble.RandomForestRegressor.html\n",
    "https://towardsdatascience.com/hyperparameter-tuning-the-random-forest-in-python-using-scikit-learn-28d2aa77dd74\n",
    "https://scikit-learn.org/stable/modules/generated/sklearn.dummy.DummyRegressor.html\n",
    "https://scikit-learn.org/stable/modules/generated/sklearn.tree.DecisionTreeRegressor.html"
   ]
  },
  {
   "cell_type": "code",
   "execution_count": 73,
   "id": "d24dddbd",
   "metadata": {},
   "outputs": [],
   "source": [
    "df_final= pd.DataFrame({'Model(s)':['DummyRegressor', 'Linear Regression', 'Knn','Knn_with_Hyperarameter_tuning', 'Random Forest', 'Random_forest_with_hyperparameter_tuning','Unseen data'],\n",
    "                             'r2_score':[dummy,lr_score,knn_score, knn_hyper_score, rfr_score, rfr_hyper,unseen_data],\n",
    "                             })\n"
   ]
  },
  {
   "cell_type": "code",
   "execution_count": 74,
   "id": "a7db965a",
   "metadata": {},
   "outputs": [
    {
     "data": {
      "text/html": [
       "<div>\n",
       "<style scoped>\n",
       "    .dataframe tbody tr th:only-of-type {\n",
       "        vertical-align: middle;\n",
       "    }\n",
       "\n",
       "    .dataframe tbody tr th {\n",
       "        vertical-align: top;\n",
       "    }\n",
       "\n",
       "    .dataframe thead th {\n",
       "        text-align: right;\n",
       "    }\n",
       "</style>\n",
       "<table border=\"1\" class=\"dataframe\">\n",
       "  <thead>\n",
       "    <tr style=\"text-align: right;\">\n",
       "      <th></th>\n",
       "      <th>Model(s)</th>\n",
       "      <th>r2_score</th>\n",
       "    </tr>\n",
       "  </thead>\n",
       "  <tbody>\n",
       "    <tr>\n",
       "      <th>0</th>\n",
       "      <td>DummyRegressor</td>\n",
       "      <td>-0.000358</td>\n",
       "    </tr>\n",
       "    <tr>\n",
       "      <th>1</th>\n",
       "      <td>Linear Regression</td>\n",
       "      <td>0.542320</td>\n",
       "    </tr>\n",
       "    <tr>\n",
       "      <th>2</th>\n",
       "      <td>Knn</td>\n",
       "      <td>0.767505</td>\n",
       "    </tr>\n",
       "    <tr>\n",
       "      <th>3</th>\n",
       "      <td>Knn_with_Hyperarameter_tuning</td>\n",
       "      <td>0.794584</td>\n",
       "    </tr>\n",
       "    <tr>\n",
       "      <th>4</th>\n",
       "      <td>Random Forest</td>\n",
       "      <td>0.770300</td>\n",
       "    </tr>\n",
       "    <tr>\n",
       "      <th>5</th>\n",
       "      <td>Random_forest_with_hyperparameter_tuning</td>\n",
       "      <td>0.867200</td>\n",
       "    </tr>\n",
       "    <tr>\n",
       "      <th>6</th>\n",
       "      <td>Unseen data</td>\n",
       "      <td>0.857041</td>\n",
       "    </tr>\n",
       "  </tbody>\n",
       "</table>\n",
       "</div>"
      ],
      "text/plain": [
       "                                   Model(s)  r2_score\n",
       "0                            DummyRegressor -0.000358\n",
       "1                         Linear Regression  0.542320\n",
       "2                                       Knn  0.767505\n",
       "3             Knn_with_Hyperarameter_tuning  0.794584\n",
       "4                             Random Forest  0.770300\n",
       "5  Random_forest_with_hyperparameter_tuning  0.867200\n",
       "6                               Unseen data  0.857041"
      ]
     },
     "execution_count": 74,
     "metadata": {},
     "output_type": "execute_result"
    }
   ],
   "source": [
    "df_final"
   ]
  },
  {
   "cell_type": "code",
   "execution_count": null,
   "id": "3a912fb2",
   "metadata": {},
   "outputs": [],
   "source": []
  }
 ],
 "metadata": {
  "kernelspec": {
   "display_name": "Python 3 (ipykernel)",
   "language": "python",
   "name": "python3"
  },
  "language_info": {
   "codemirror_mode": {
    "name": "ipython",
    "version": 3
   },
   "file_extension": ".py",
   "mimetype": "text/x-python",
   "name": "python",
   "nbconvert_exporter": "python",
   "pygments_lexer": "ipython3",
   "version": "3.9.7"
  }
 },
 "nbformat": 4,
 "nbformat_minor": 5
}
